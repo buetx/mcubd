{
  "cells": [
    {
      "cell_type": "code",
      "execution_count": null,
      "metadata": {
        "id": "93a3edJRcpTF",
        "cellView": "form",
        "outputId": "2d8824ad-d20e-4584-eee8-cea64c68a29b",
        "colab": {
          "base_uri": "https://localhost:8080/"
        }
      },
      "outputs": [
        {
          "output_type": "stream",
          "name": "stdout",
          "text": [
            "Drive already mounted at /content/drive; to attempt to forcibly remount, call drive.mount(\"/content/drive\", force_remount=True).\n"
          ]
        }
      ],
      "source": [
        "# @title Connect to gdrive\n",
        "\n",
        "from google.colab import drive\n",
        "drive.mount('/content/drive')"
      ]
    },
    {
      "cell_type": "code",
      "source": [
        "cd drive/MyDrive"
      ],
      "metadata": {
        "id": "0supzbcn3tTj",
        "colab": {
          "base_uri": "https://localhost:8080/"
        },
        "outputId": "34ec6890-ee64-4890-9ce8-81e8c8063b02"
      },
      "execution_count": null,
      "outputs": [
        {
          "output_type": "stream",
          "name": "stdout",
          "text": [
            "/content/drive/MyDrive\n"
          ]
        }
      ]
    },
    {
      "cell_type": "code",
      "source": [
        "#@title Download a file\n",
        "import os\n",
        "def download_file(url):\n",
        "    !wget -O {url}  {os.path.basename(url)}\n",
        "url = input(\"Enter Url:          \")\n",
        "download_file(url)"
      ],
      "metadata": {
        "id": "8HDHgQpbTmvz"
      },
      "execution_count": null,
      "outputs": []
    },
    {
      "cell_type": "code",
      "source": [
        "#@title Download Muliple file\n",
        "import os\n",
        "\n",
        "def download_file(url, i):\n",
        "    os.system(f\"wget -O seg-{i}-v1-a1.ts {url}\")\n",
        "\n",
        "for i in range(61, 91):\n",
        "    download_file(f\"https://58a49ee706238.streamlock.net:8485/uploads/jio_271144/1f3ac880567e7e84612e04d3d5186efc.mp4/seg-{i}-v1-a1.ts\", i)\n"
      ],
      "metadata": {
        "id": "OViF-RHWId43"
      },
      "execution_count": null,
      "outputs": []
    },
    {
      "cell_type": "code",
      "source": [
        "#@title Download file oldway\n",
        "!wget -O \"/content/drive/MyDrive/10.mkv\"  \"\""
      ],
      "metadata": {
        "id": "zSx2HfLSttzu",
        "outputId": "8a1b0439-71af-45c7-ec8d-1a60c98c7f62",
        "colab": {
          "base_uri": "https://localhost:8080/"
        }
      },
      "execution_count": null,
      "outputs": [
        {
          "output_type": "stream",
          "name": "stdout",
          "text": [
            "--2023-12-15 23:13:59--  https://scontent.fdac24-3.fna.fbcdn.net/v/t42.1790-2/10000000_383361337478713_5138757873228744901_n.mp4?_nc_cat=104&ccb=1-7&_nc_sid=55d0d3&efg=eyJybHIiOjM0NSwicmxhIjo0MDk2LCJ2ZW5jb2RlX3RhZyI6InN2ZV9zZCJ9&_nc_eui2=AeEbjEU3FIv-lX7Ca455mUbJqwBZ0q0pcnerAFnSrSlyd2WtPI79D3f_IDGTy-KtxcJ8M-DydZ_cFEGKv7xzg0b0&_nc_ohc=-pqaq9eoJ1AAX_OzvgJ&_nc_rml=0&_nc_ht=scontent.fdac24-3.fna&oh=00_AfCtELeY4W-IAq46ccB1cur2Fe8u2y_TaA_0FiHY78l9UA&oe=6581E215\n",
            "Resolving scontent.fdac24-3.fna.fbcdn.net (scontent.fdac24-3.fna.fbcdn.net)... 103.242.216.19, 2405:1500:0:12:face:b00c:0:a7\n",
            "Connecting to scontent.fdac24-3.fna.fbcdn.net (scontent.fdac24-3.fna.fbcdn.net)|103.242.216.19|:443... connected.\n",
            "HTTP request sent, awaiting response... 200 OK\n",
            "Length: 66150985 (63M) [video/mp4]\n",
            "Saving to: ‘/content/drive/MyDrive/10.mkv’\n",
            "\n",
            "                     70%[=============>      ]  44.52M  44.0KB/s    eta 41s    "
          ]
        }
      ]
    },
    {
      "cell_type": "code",
      "source": [
        "# @title Unzip a file\n",
        "!pip install patool\n",
        "import patoolib\n",
        "import os\n",
        "\n",
        "def unzip_file(file_path, extract_path):\n",
        "    try:\n",
        "        patoolib.extract_archive(file_path, outdir=extract_path)\n",
        "        print(f\"Successfully extracted {file_path} to {extract_path}\")\n",
        "    except Exception as e:\n",
        "        print(f\"Error extracting {file_path}: {e}\")\n",
        "\n",
        "# Example usage\n",
        "compressed_file_path = '/content/drive/MyDrive/'+ input(\"Enter fileName in MyDrive:     \")\n",
        "extract_path = '/content/drive/MyDrive/extrected'+input(\"Enter output folder in MyDrive:     \")\n",
        "\n",
        "unzip_file(compressed_file_path, extract_path)\n",
        "os.remove(compressed_file_path)\n",
        "print(f\"unzipped succesfully and deleted zip file\")\n",
        "\n",
        "\n",
        "\n"
      ],
      "metadata": {
        "id": "VQa7bMxanfaQ",
        "colab": {
          "base_uri": "https://localhost:8080/"
        },
        "outputId": "5572d0b0-95c9-45e2-e953-efbe75faae7f"
      },
      "execution_count": 5,
      "outputs": [
        {
          "name": "stdout",
          "output_type": "stream",
          "text": [
            "Requirement already satisfied: patool in /usr/local/lib/python3.10/dist-packages (2.2.0)\n",
            "Enter fileName in MyDrive:     z.zip\n"
          ]
        },
        {
          "output_type": "stream",
          "name": "stderr",
          "text": [
            "INFO patool: Extracting /content/drive/MyDrive/z.zip ...\n",
            "INFO:patool:Extracting /content/drive/MyDrive/z.zip ...\n",
            "INFO patool: running /usr/bin/7z x -o/content/drive/MyDrive/extrected -- /content/drive/MyDrive/z.zip\n",
            "INFO:patool:running /usr/bin/7z x -o/content/drive/MyDrive/extrected -- /content/drive/MyDrive/z.zip\n",
            "INFO patool:     with input=''\n",
            "INFO:patool:    with input=''\n",
            "INFO patool: ... /content/drive/MyDrive/z.zip extracted to `/content/drive/MyDrive/extrected'.\n",
            "INFO:patool:... /content/drive/MyDrive/z.zip extracted to `/content/drive/MyDrive/extrected'.\n"
          ]
        },
        {
          "output_type": "stream",
          "name": "stdout",
          "text": [
            "Successfully extracted /content/drive/MyDrive/z.zip to /content/drive/MyDrive/extrected\n",
            "unzipped succesfully and deleted zip file\n"
          ]
        }
      ]
    },
    {
      "cell_type": "code",
      "source": [
        "# @title Extract audio track\n",
        "#extract audio\n",
        "import subprocess\n",
        "\n",
        "def extract_audio(input_video, output_audio):\n",
        "    command = [\n",
        "        'ffmpeg',\n",
        "        '-i', input_video,\n",
        "        '-vn',  # Disable video recording\n",
        "        '-acodec', 'copy',  # Copy audio codec without re-encoding\n",
        "        #'-map', '0:a:1',  # Select the second audio stream (0-indexed)\n",
        "        output_audio\n",
        "    ]\n",
        "\n",
        "    subprocess.run(command)\n",
        "\n",
        "if __name__ == \"__main__\":\n",
        "    input_video_file = \"ben.mkv\"\n",
        "    output_audio_file = \"ben2.mp4\"\n",
        "    for i in range(11,20):\n",
        "        extract_audio(f\"{i}.mkv\", f\"./nullvideo/{i}-vid.mp4\")"
      ],
      "metadata": {
        "id": "KPyBub2uv1aN",
        "cellView": "form"
      },
      "execution_count": null,
      "outputs": []
    },
    {
      "cell_type": "code",
      "source": [
        "ls"
      ],
      "metadata": {
        "id": "mV1QuPGi2Fo_"
      },
      "execution_count": null,
      "outputs": []
    },
    {
      "cell_type": "code",
      "source": [
        "# @title Audio track count find\n",
        "#audio track count find\n",
        "import subprocess\n",
        "import json\n",
        "\n",
        "def get_all_audio_track_info(input_video):\n",
        "    command = [\n",
        "        'ffprobe',\n",
        "        '-v', 'error',\n",
        "        '-select_streams', 'a',\n",
        "        '-show_entries', 'stream=index:stream_tags=language',\n",
        "        '-of', 'json',\n",
        "        input_video\n",
        "    ]\n",
        "\n",
        "    try:\n",
        "        result = subprocess.run(command, capture_output=True, text=True)\n",
        "        output = result.stdout\n",
        "\n",
        "        data = json.loads(output)\n",
        "        audio_tracks = [\n",
        "            {\"index\": entry[\"index\"], \"language\": entry[\"tags\"].get(\"language\", \"unknown\")}\n",
        "            for entry in data.get(\"streams\", [])\n",
        "        ]\n",
        "\n",
        "        return audio_tracks\n",
        "\n",
        "    except subprocess.CalledProcessError as e:\n",
        "        print(f\"Error: {e}\")\n",
        "        return None\n",
        "\n",
        "if __name__ == \"__main__\":\n",
        "    input_video_file = \"ben.mkv\"\n",
        "\n",
        "    audio_track_info = get_all_audio_track_info(input_video_file)\n",
        "\n",
        "    if audio_track_info is not None:\n",
        "        print(\"All Audio Tracks Information:\")\n",
        "        for track in audio_track_info:\n",
        "            print(f\"Index: {track['index']}, Language: {track['language']}\")\n",
        "    else:\n",
        "        print(\"Failed to retrieve audio track information.\")"
      ],
      "metadata": {
        "cellView": "form",
        "id": "Dpm1ebGru5Uv"
      },
      "execution_count": null,
      "outputs": []
    },
    {
      "cell_type": "code",
      "source": [
        "# @title h264 video(aac) => h264 video(mp3)\n",
        "import subprocess\n",
        "\n",
        "def copy_video_change_audio_to_mp3(input_video, output_video):\n",
        "    command = [\n",
        "        'ffmpeg',\n",
        "        '-i', input_video,\n",
        "        '-c:v', 'copy',    # Copy the video codec without re-encoding\n",
        "        '-c:a', 'mp3',     # Set the audio codec to MP3\n",
        "        '-strict', 'experimental',  # Needed for using AAC codec\n",
        "        output_video\n",
        "    ]\n",
        "\n",
        "    try:\n",
        "        subprocess.run(command, check=True)\n",
        "        print(f\"Video copied, and audio codec changed to MP3. Saved to {output_video}.\")\n",
        "    except subprocess.CalledProcessError as e:\n",
        "        print(f\"Error: {e}\")\n",
        "\n",
        "if __name__ == \"__main__\":\n",
        "    input_video_file = \"path/to/your/input/video.mp4\"\n",
        "    output_video_file = \"path/to/your/output/copied_video.mp4\"\n",
        "    for i in range(1,7):\n",
        "        copy_video_change_audio_to_mp3(f\"{i}.mkv\", f\"./mp3vid/{i}.mp4\")\n"
      ],
      "metadata": {
        "id": "mI5MuIaW7H-w"
      },
      "execution_count": null,
      "outputs": []
    },
    {
      "cell_type": "code",
      "source": [
        "#@title Zip a folder\n",
        "import shutil\n",
        "\n",
        "def zip_folder(folder_path, zip_path):\n",
        "    # Create a zip file with the contents of the specified folder\n",
        "    shutil.make_archive(zip_path, 'zip', folder_path)\n",
        "\n",
        "# Example usage:\n",
        "folder_to_zip = '/content/drive/MyDrive/'+input('Enter Folder MyDrive/           ')\n",
        "zip_file_path = '/content/drive/MyDrive/folder.zip'\n",
        "\n",
        "zip_folder(folder_to_zip, zip_file_path)\n"
      ],
      "metadata": {
        "colab": {
          "base_uri": "https://localhost:8080/"
        },
        "cellView": "form",
        "id": "ySzSjt00hO5n",
        "outputId": "5179504f-9124-4001-bb5d-3361787f6709"
      },
      "execution_count": null,
      "outputs": [
        {
          "name": "stdout",
          "output_type": "stream",
          "text": [
            "Enter Folder MyDrive/           mp3vid\n"
          ]
        }
      ]
    },
    {
      "cell_type": "code",
      "source": [
        "#@title Rename file\n",
        "from google.colab import drive\n",
        "import os\n",
        "\n",
        "directory_path = '/content/drive/MyDrive/'\n",
        "os.chdir(directory_path)\n",
        "\n",
        "for i in range(1,2):\n",
        "    os.rename(f\"{i}.mp4\", f\"Mr. Bad EP-{i}.mp4\")\n"
      ],
      "metadata": {
        "colab": {
          "base_uri": "https://localhost:8080/",
          "height": 210
        },
        "id": "LZYLnpcOkVVn",
        "outputId": "6d7f6e80-0814-4298-eb4d-9d20d98cfeee"
      },
      "execution_count": null,
      "outputs": [
        {
          "output_type": "error",
          "ename": "FileNotFoundError",
          "evalue": "ignored",
          "traceback": [
            "\u001b[0;31m---------------------------------------------------------------------------\u001b[0m",
            "\u001b[0;31mFileNotFoundError\u001b[0m                         Traceback (most recent call last)",
            "\u001b[0;32m<ipython-input-35-bc3c0c01c218>\u001b[0m in \u001b[0;36m<cell line: 8>\u001b[0;34m()\u001b[0m\n\u001b[1;32m      7\u001b[0m \u001b[0;34m\u001b[0m\u001b[0m\n\u001b[1;32m      8\u001b[0m \u001b[0;32mfor\u001b[0m \u001b[0mi\u001b[0m \u001b[0;32min\u001b[0m \u001b[0mrange\u001b[0m\u001b[0;34m(\u001b[0m\u001b[0;36m1\u001b[0m\u001b[0;34m,\u001b[0m\u001b[0;36m2\u001b[0m\u001b[0;34m)\u001b[0m\u001b[0;34m:\u001b[0m\u001b[0;34m\u001b[0m\u001b[0;34m\u001b[0m\u001b[0m\n\u001b[0;32m----> 9\u001b[0;31m     \u001b[0mos\u001b[0m\u001b[0;34m.\u001b[0m\u001b[0mrename\u001b[0m\u001b[0;34m(\u001b[0m\u001b[0;34mf\"{i}.mp4\"\u001b[0m\u001b[0;34m,\u001b[0m \u001b[0;34mf\"Mr. Bad EP-{i}.mp4\"\u001b[0m\u001b[0;34m)\u001b[0m\u001b[0;34m\u001b[0m\u001b[0;34m\u001b[0m\u001b[0m\n\u001b[0m",
            "\u001b[0;31mFileNotFoundError\u001b[0m: [Errno 2] No such file or directory: '1.mp4' -> 'Mr. Bad EP-1.mp4'"
          ]
        }
      ]
    },
    {
      "cell_type": "code",
      "source": [
        "fmpeg -i \"16.mkv\" -c:v libx264 -crf 32 -preset superfast -c:a mp3 -b:a 192k -threads 8 \"16.mp4\""
      ],
      "metadata": {
        "colab": {
          "base_uri": "https://localhost:8080/",
          "height": 140
        },
        "id": "N-g0jbXshSSS",
        "outputId": "b39bef7d-7d59-4ca0-81c9-fa9fdfede0e4"
      },
      "execution_count": null,
      "outputs": [
        {
          "output_type": "error",
          "ename": "SyntaxError",
          "evalue": "ignored",
          "traceback": [
            "\u001b[0;36m  File \u001b[0;32m\"<ipython-input-5-b6ffda70a22a>\"\u001b[0;36m, line \u001b[0;32m1\u001b[0m\n\u001b[0;31m    fmpeg -i \"16.mkv\" -c:v libx264 -crf 32 -preset superfast -c:a mp3 -b:a 192k -threads 8 \"16.mp4\"\u001b[0m\n\u001b[0m                                                                             ^\u001b[0m\n\u001b[0;31mSyntaxError\u001b[0m\u001b[0;31m:\u001b[0m invalid decimal literal\n"
          ]
        }
      ]
    },
    {
      "cell_type": "code",
      "source": [
        "# Install FFmpeg\n",
        "!apt-get install ffmpeg\n",
        "\n",
        "# Run FFmpeg command\n",
        "!ffmpeg -i \"16.mkv\" -c:v libx264 -crf 32 -preset superfast -c:a mp3 -b:a 192k -threads 8 \"16.mp4\"\n",
        "\n",
        "\n"
      ],
      "metadata": {
        "id": "B35tdLjSACmP",
        "outputId": "e7fc1074-0004-4855-a71a-7bf3aa8aa2d9",
        "colab": {
          "base_uri": "https://localhost:8080/"
        }
      },
      "execution_count": null,
      "outputs": [
        {
          "output_type": "stream",
          "name": "stdout",
          "text": [
            "Reading package lists... Done\n",
            "Building dependency tree... Done\n",
            "Reading state information... Done\n",
            "ffmpeg is already the newest version (7:4.4.2-0ubuntu0.22.04.1).\n",
            "0 upgraded, 0 newly installed, 0 to remove and 24 not upgraded.\n",
            "ffmpeg version 4.4.2-0ubuntu0.22.04.1 Copyright (c) 2000-2021 the FFmpeg developers\n",
            "  built with gcc 11 (Ubuntu 11.2.0-19ubuntu1)\n",
            "  configuration: --prefix=/usr --extra-version=0ubuntu0.22.04.1 --toolchain=hardened --libdir=/usr/lib/x86_64-linux-gnu --incdir=/usr/include/x86_64-linux-gnu --arch=amd64 --enable-gpl --disable-stripping --enable-gnutls --enable-ladspa --enable-libaom --enable-libass --enable-libbluray --enable-libbs2b --enable-libcaca --enable-libcdio --enable-libcodec2 --enable-libdav1d --enable-libflite --enable-libfontconfig --enable-libfreetype --enable-libfribidi --enable-libgme --enable-libgsm --enable-libjack --enable-libmp3lame --enable-libmysofa --enable-libopenjpeg --enable-libopenmpt --enable-libopus --enable-libpulse --enable-librabbitmq --enable-librubberband --enable-libshine --enable-libsnappy --enable-libsoxr --enable-libspeex --enable-libsrt --enable-libssh --enable-libtheora --enable-libtwolame --enable-libvidstab --enable-libvorbis --enable-libvpx --enable-libwebp --enable-libx265 --enable-libxml2 --enable-libxvid --enable-libzimg --enable-libzmq --enable-libzvbi --enable-lv2 --enable-omx --enable-openal --enable-opencl --enable-opengl --enable-sdl2 --enable-pocketsphinx --enable-librsvg --enable-libmfx --enable-libdc1394 --enable-libdrm --enable-libiec61883 --enable-chromaprint --enable-frei0r --enable-libx264 --enable-shared\n",
            "  libavutil      56. 70.100 / 56. 70.100\n",
            "  libavcodec     58.134.100 / 58.134.100\n",
            "  libavformat    58. 76.100 / 58. 76.100\n",
            "  libavdevice    58. 13.100 / 58. 13.100\n",
            "  libavfilter     7.110.100 /  7.110.100\n",
            "  libswscale      5.  9.100 /  5.  9.100\n",
            "  libswresample   3.  9.100 /  3.  9.100\n",
            "  libpostproc    55.  9.100 / 55.  9.100\n",
            "Input #0, matroska,webm, from '16.mkv':\n",
            "  Metadata:\n",
            "    title           : KimoiTV.com\n",
            "    ENCODED_BY      : KimoiTV.com\n",
            "    COMMENT         : KimoiTV.com\n",
            "    ENCODER         : Lavf57.83.100\n",
            "  Duration: 00:44:45.72, start: 0.000000, bitrate: 244 kb/s\n",
            "  Stream #0:0: Video: hevc (Main), yuv420p(tv, progressive), 924x518 [SAR 296:297 DAR 16:9], 30 fps, 30 tbr, 1k tbn, 30 tbc (default)\n",
            "    Metadata:\n",
            "      BPS             : 4991128\n",
            "      NUMBER_OF_FRAMES: 67140\n",
            "      NUMBER_OF_BYTES : 1675521711\n",
            "      _STATISTICS_WRITING_APP: mkvmerge v76.0 ('Celebration') 64-bit\n",
            "      _STATISTICS_WRITING_DATE_UTC: 2023-07-09 08:06:13\n",
            "      _STATISTICS_TAGS: BPS DURATION NUMBER_OF_FRAMES NUMBER_OF_BYTES\n",
            "      ENCODER         : Lavc57.107.100 libx265\n",
            "      DURATION        : 00:44:45.621000000\n",
            "  Stream #0:1(chi): Audio: aac (LC), 48000 Hz, stereo, fltp (default)\n",
            "    Metadata:\n",
            "      title           : KimoiTV.com\n",
            "      _STATISTICS_TAGS: BPS DURATION NUMBER_OF_FRAMES NUMBER_OF_BYTES\n",
            "      BPS             : 127999\n",
            "      NUMBER_OF_FRAMES: 62946\n",
            "      NUMBER_OF_BYTES : 42971135\n",
            "      _STATISTICS_WRITING_APP: mkvmerge v76.0 ('Celebration') 64-bit\n",
            "      _STATISTICS_WRITING_DATE_UTC: 2023-07-09 08:06:13\n",
            "      ENCODER         : Lavc57.107.100 aac\n",
            "      DURATION        : 00:44:45.716000000\n",
            "Stream mapping:\n",
            "  Stream #0:0 -> #0:0 (hevc (native) -> h264 (libx264))\n",
            "  Stream #0:1 -> #0:1 (aac (native) -> mp3 (libmp3lame))\n",
            "Press [q] to stop, [?] for help\n",
            "\u001b[1;36m[libx264 @ 0x5cf184deb200] \u001b[0musing SAR=296/297\n",
            "\u001b[1;36m[libx264 @ 0x5cf184deb200] \u001b[0musing cpu capabilities: MMX2 SSE2Fast SSSE3 SSE4.2 AVX FMA3 BMI2 AVX2\n",
            "\u001b[1;36m[libx264 @ 0x5cf184deb200] \u001b[0mprofile High, level 3.1, 4:2:0, 8-bit\n",
            "\u001b[1;36m[libx264 @ 0x5cf184deb200] \u001b[0m264 - core 163 r3060 5db6aa6 - H.264/MPEG-4 AVC codec - Copyleft 2003-2021 - http://www.videolan.org/x264.html - options: cabac=1 ref=1 deblock=1:0:0 analyse=0x3:0x3 me=dia subme=1 psy=1 psy_rd=1.00:0.00 mixed_ref=0 me_range=16 chroma_me=1 trellis=0 8x8dct=1 cqm=0 deadzone=21,11 fast_pskip=1 chroma_qp_offset=0 threads=8 lookahead_threads=1 sliced_threads=0 nr=0 decimate=1 interlaced=0 bluray_compat=0 constrained_intra=0 bframes=3 b_pyramid=2 b_adapt=1 b_bias=0 direct=1 weightb=1 open_gop=0 weightp=1 keyint=250 keyint_min=25 scenecut=40 intra_refresh=0 rc=crf mbtree=0 crf=32.0 qcomp=0.60 qpmin=0 qpmax=69 qpstep=4 ip_ratio=1.40 pb_ratio=1.30 aq=1:1.00\n",
            "Output #0, mp4, to '16.mp4':\n",
            "  Metadata:\n",
            "    title           : KimoiTV.com\n",
            "    ENCODED_BY      : KimoiTV.com\n",
            "    COMMENT         : KimoiTV.com\n",
            "    encoder         : Lavf58.76.100\n",
            "  Stream #0:0: Video: h264 (avc1 / 0x31637661), yuv420p(tv, progressive), 924x518 [SAR 296:297 DAR 16:9], q=2-31, 30 fps, 15360 tbn (default)\n",
            "    Metadata:\n",
            "      BPS             : 4991128\n",
            "      NUMBER_OF_FRAMES: 67140\n",
            "      NUMBER_OF_BYTES : 1675521711\n",
            "      _STATISTICS_WRITING_APP: mkvmerge v76.0 ('Celebration') 64-bit\n",
            "      _STATISTICS_WRITING_DATE_UTC: 2023-07-09 08:06:13\n",
            "      _STATISTICS_TAGS: BPS DURATION NUMBER_OF_FRAMES NUMBER_OF_BYTES\n",
            "      DURATION        : 00:44:45.621000000\n",
            "      encoder         : Lavc58.134.100 libx264\n",
            "    Side data:\n",
            "      cpb: bitrate max/min/avg: 0/0/0 buffer size: 0 vbv_delay: N/A\n",
            "  Stream #0:1(chi): Audio: mp3 (mp4a / 0x6134706D), 48000 Hz, stereo, fltp, 192 kb/s (default)\n",
            "    Metadata:\n",
            "      title           : KimoiTV.com\n",
            "      _STATISTICS_TAGS: BPS DURATION NUMBER_OF_FRAMES NUMBER_OF_BYTES\n",
            "      BPS             : 127999\n",
            "      NUMBER_OF_FRAMES: 62946\n",
            "      NUMBER_OF_BYTES : 42971135\n",
            "      _STATISTICS_WRITING_APP: mkvmerge v76.0 ('Celebration') 64-bit\n",
            "      _STATISTICS_WRITING_DATE_UTC: 2023-07-09 08:06:13\n",
            "      DURATION        : 00:44:45.716000000\n",
            "      encoder         : Lavc58.134.100 libmp3lame\n",
            "\u001b[0;33mMore than 1000 frames duplicated\n"
          ]
        }
      ]
    }
  ],
  "metadata": {
    "colab": {
      "provenance": []
    },
    "kernelspec": {
      "display_name": "Python 3",
      "name": "python3"
    },
    "language_info": {
      "name": "python"
    }
  },
  "nbformat": 4,
  "nbformat_minor": 0
}