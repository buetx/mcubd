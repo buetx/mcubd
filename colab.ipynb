{
  "cells": [
    {
      "cell_type": "code",
      "execution_count": null,
      "metadata": {
        "id": "93a3edJRcpTF",
        "cellView": "form"
      },
      "outputs": [],
      "source": [
        "# @title Connect to gdrive\n",
        "\n",
        "from google.colab import drive\n",
        "drive.mount('/content/drive')"
      ]
    },
    {
      "cell_type": "code",
      "source": [
        "cd drive/MyDrive"
      ],
      "metadata": {
        "id": "0supzbcn3tTj",
        "colab": {
          "base_uri": "https://localhost:8080/"
        },
        "outputId": "3ffa3d0c-6858-41eb-c241-e9f8224cf2f8"
      },
      "execution_count": 22,
      "outputs": [
        {
          "output_type": "stream",
          "name": "stdout",
          "text": [
            "/content/drive/MyDrive\n"
          ]
        }
      ]
    },
    {
      "cell_type": "code",
      "source": [
        "#@title Download a file\n",
        "import os\n",
        "def download_file(url):\n",
        "    !wget -O {url}  {os.path.basename(url)}\n",
        "url = input(\"Enter Url:          \")\n",
        "download_file(url)"
      ],
      "metadata": {
        "id": "8HDHgQpbTmvz",
        "colab": {
          "base_uri": "https://localhost:8080/"
        },
        "outputId": "f65a41ac-3802-46be-93ca-814c6cbfc93f"
      },
      "execution_count": 43,
      "outputs": [
        {
          "output_type": "stream",
          "name": "stdout",
          "text": [
            "Enter Url:          https://scontent.fdac24-3.fna.fbcdn.net/v/t42.1790-2/10000000_383361337478713_5138757873228744901_n.mp4?_nc_cat=104&ccb=1-7&_nc_sid=55d0d3&efg=eyJybHIiOjM0NSwicmxhIjo0MDk2LCJ2ZW5jb2RlX3RhZyI6InN2ZV9zZCJ9&_nc_eui2=AeEbjEU3FIv-lX7Ca455mUbJqwBZ0q0pcnerAFnSrSlyd2WtPI79D3f_IDGTy-KtxcJ8M-DydZ_cFEGKv7xzg0b0&_nc_ohc=-pqaq9eoJ1AAX_OzvgJ&_nc_rml=0&_nc_ht=scontent.fdac24-3.fna&oh=00_AfCtELeY4W-IAq46ccB1cur2Fe8u2y_TaA_0FiHY78l9UA&oe=6581E215\n",
            "/bin/bash: line 1: 10000000_383361337478713_5138757873228744901_n.mp4?_nc_cat=104: command not found\n",
            "wget: missing URL\n",
            "Usage: wget [OPTION]... [URL]...\n",
            "\n",
            "Try `wget --help' for more options.\n"
          ]
        }
      ]
    },
    {
      "cell_type": "code",
      "source": [
        "#@title Download file oldway\n",
        "!wget -O \"/content/drive/MyDrive/10.mkv\"  \"\""
      ],
      "metadata": {
        "id": "zSx2HfLSttzu",
        "outputId": "8a1b0439-71af-45c7-ec8d-1a60c98c7f62",
        "colab": {
          "base_uri": "https://localhost:8080/"
        }
      },
      "execution_count": null,
      "outputs": [
        {
          "output_type": "stream",
          "name": "stdout",
          "text": [
            "--2023-12-15 23:13:59--  https://scontent.fdac24-3.fna.fbcdn.net/v/t42.1790-2/10000000_383361337478713_5138757873228744901_n.mp4?_nc_cat=104&ccb=1-7&_nc_sid=55d0d3&efg=eyJybHIiOjM0NSwicmxhIjo0MDk2LCJ2ZW5jb2RlX3RhZyI6InN2ZV9zZCJ9&_nc_eui2=AeEbjEU3FIv-lX7Ca455mUbJqwBZ0q0pcnerAFnSrSlyd2WtPI79D3f_IDGTy-KtxcJ8M-DydZ_cFEGKv7xzg0b0&_nc_ohc=-pqaq9eoJ1AAX_OzvgJ&_nc_rml=0&_nc_ht=scontent.fdac24-3.fna&oh=00_AfCtELeY4W-IAq46ccB1cur2Fe8u2y_TaA_0FiHY78l9UA&oe=6581E215\n",
            "Resolving scontent.fdac24-3.fna.fbcdn.net (scontent.fdac24-3.fna.fbcdn.net)... 103.242.216.19, 2405:1500:0:12:face:b00c:0:a7\n",
            "Connecting to scontent.fdac24-3.fna.fbcdn.net (scontent.fdac24-3.fna.fbcdn.net)|103.242.216.19|:443... connected.\n",
            "HTTP request sent, awaiting response... 200 OK\n",
            "Length: 66150985 (63M) [video/mp4]\n",
            "Saving to: ‘/content/drive/MyDrive/10.mkv’\n",
            "\n",
            "                     70%[=============>      ]  44.52M  44.0KB/s    eta 41s    "
          ]
        }
      ]
    },
    {
      "cell_type": "code",
      "source": [
        "# @title Unzip a file\n",
        "import patoolib\n",
        "\n",
        "def unzip_file(file_path, extract_path):\n",
        "    try:\n",
        "        patoolib.extract_archive(file_path, outdir=extract_path)\n",
        "        print(f\"Successfully extracted {file_path} to {extract_path}\")\n",
        "    except Exception as e:\n",
        "        print(f\"Error extracting {file_path}: {e}\")\n",
        "\n",
        "# Example usage\n",
        "compressed_file_path = '/content/drive/MyDrive/'+ input(\"Enter fileName in MyDrive:     \")\n",
        "extract_path = '/content/drive/MyDrive/extrected'\n",
        "\n",
        "unzip_file(compressed_file_path, extract_path)\n",
        "\n",
        "\n",
        "\n"
      ],
      "metadata": {
        "id": "VQa7bMxanfaQ",
        "cellView": "form"
      },
      "execution_count": null,
      "outputs": []
    },
    {
      "cell_type": "code",
      "source": [
        "# @title Extract audio track\n",
        "#extract audio\n",
        "import subprocess\n",
        "\n",
        "def extract_audio(input_video, output_audio):\n",
        "    command = [\n",
        "        'ffmpeg',\n",
        "        '-i', input_video,\n",
        "        '-vn',  # Disable video recording\n",
        "        '-acodec', 'copy',  # Copy audio codec without re-encoding\n",
        "        #'-map', '0:a:1',  # Select the second audio stream (0-indexed)\n",
        "        output_audio\n",
        "    ]\n",
        "\n",
        "    subprocess.run(command)\n",
        "\n",
        "if __name__ == \"__main__\":\n",
        "    input_video_file = \"ben.mkv\"\n",
        "    output_audio_file = \"ben2.mp4\"\n",
        "    for i in range(11,20):\n",
        "        extract_audio(f\"{i}.mkv\", f\"./nullvideo/{i}-vid.mp4\")"
      ],
      "metadata": {
        "id": "KPyBub2uv1aN",
        "cellView": "form"
      },
      "execution_count": null,
      "outputs": []
    },
    {
      "cell_type": "code",
      "source": [
        "ls"
      ],
      "metadata": {
        "id": "mV1QuPGi2Fo_"
      },
      "execution_count": null,
      "outputs": []
    },
    {
      "cell_type": "code",
      "source": [
        "# @title Audio track count find\n",
        "#audio track count find\n",
        "import subprocess\n",
        "import json\n",
        "\n",
        "def get_all_audio_track_info(input_video):\n",
        "    command = [\n",
        "        'ffprobe',\n",
        "        '-v', 'error',\n",
        "        '-select_streams', 'a',\n",
        "        '-show_entries', 'stream=index:stream_tags=language',\n",
        "        '-of', 'json',\n",
        "        input_video\n",
        "    ]\n",
        "\n",
        "    try:\n",
        "        result = subprocess.run(command, capture_output=True, text=True)\n",
        "        output = result.stdout\n",
        "\n",
        "        data = json.loads(output)\n",
        "        audio_tracks = [\n",
        "            {\"index\": entry[\"index\"], \"language\": entry[\"tags\"].get(\"language\", \"unknown\")}\n",
        "            for entry in data.get(\"streams\", [])\n",
        "        ]\n",
        "\n",
        "        return audio_tracks\n",
        "\n",
        "    except subprocess.CalledProcessError as e:\n",
        "        print(f\"Error: {e}\")\n",
        "        return None\n",
        "\n",
        "if __name__ == \"__main__\":\n",
        "    input_video_file = \"ben.mkv\"\n",
        "\n",
        "    audio_track_info = get_all_audio_track_info(input_video_file)\n",
        "\n",
        "    if audio_track_info is not None:\n",
        "        print(\"All Audio Tracks Information:\")\n",
        "        for track in audio_track_info:\n",
        "            print(f\"Index: {track['index']}, Language: {track['language']}\")\n",
        "    else:\n",
        "        print(\"Failed to retrieve audio track information.\")"
      ],
      "metadata": {
        "cellView": "form",
        "id": "Dpm1ebGru5Uv"
      },
      "execution_count": null,
      "outputs": []
    },
    {
      "cell_type": "code",
      "source": [
        "# @title h264 video(aac) => h264 video(mp3)\n",
        "import subprocess\n",
        "\n",
        "def copy_video_change_audio_to_mp3(input_video, output_video):\n",
        "    command = [\n",
        "        'ffmpeg',\n",
        "        '-i', input_video,\n",
        "        '-c:v', 'copy',    # Copy the video codec without re-encoding\n",
        "        '-c:a', 'mp3',     # Set the audio codec to MP3\n",
        "        '-strict', 'experimental',  # Needed for using AAC codec\n",
        "        output_video\n",
        "    ]\n",
        "\n",
        "    try:\n",
        "        subprocess.run(command, check=True)\n",
        "        print(f\"Video copied, and audio codec changed to MP3. Saved to {output_video}.\")\n",
        "    except subprocess.CalledProcessError as e:\n",
        "        print(f\"Error: {e}\")\n",
        "\n",
        "if __name__ == \"__main__\":\n",
        "    input_video_file = \"path/to/your/input/video.mp4\"\n",
        "    output_video_file = \"path/to/your/output/copied_video.mp4\"\n",
        "    for i in range(1,7):\n",
        "        copy_video_change_audio_to_mp3(f\"{i}.mkv\", f\"./mp3vid/{i}.mp4\")\n"
      ],
      "metadata": {
        "id": "mI5MuIaW7H-w"
      },
      "execution_count": null,
      "outputs": []
    },
    {
      "cell_type": "code",
      "source": [
        "#@title Zip a folder\n",
        "import shutil\n",
        "\n",
        "def zip_folder(folder_path, zip_path):\n",
        "    # Create a zip file with the contents of the specified folder\n",
        "    shutil.make_archive(zip_path, 'zip', folder_path)\n",
        "\n",
        "# Example usage:\n",
        "folder_to_zip = '/content/drive/MyDrive/'+input('Enter Folder MyDrive/           ')\n",
        "zip_file_path = '/content/drive/MyDrive/folder.zip'\n",
        "\n",
        "zip_folder(folder_to_zip, zip_file_path)\n"
      ],
      "metadata": {
        "colab": {
          "base_uri": "https://localhost:8080/"
        },
        "cellView": "form",
        "id": "ySzSjt00hO5n",
        "outputId": "5179504f-9124-4001-bb5d-3361787f6709"
      },
      "execution_count": 27,
      "outputs": [
        {
          "name": "stdout",
          "output_type": "stream",
          "text": [
            "Enter Folder MyDrive/           mp3vid\n"
          ]
        }
      ]
    },
    {
      "cell_type": "code",
      "source": [
        "#@title Rename file\n",
        "from google.colab import drive\n",
        "import os\n",
        "\n",
        "directory_path = '/content/drive/MyDrive/'\n",
        "os.chdir(directory_path)\n",
        "\n",
        "for i in range(1,2):\n",
        "    os.rename(f\"{i}.mp4\", f\"Mr. Bad EP-{i}.mp4\")\n"
      ],
      "metadata": {
        "colab": {
          "base_uri": "https://localhost:8080/",
          "height": 210
        },
        "id": "LZYLnpcOkVVn",
        "outputId": "6d7f6e80-0814-4298-eb4d-9d20d98cfeee"
      },
      "execution_count": 35,
      "outputs": [
        {
          "output_type": "error",
          "ename": "FileNotFoundError",
          "evalue": "ignored",
          "traceback": [
            "\u001b[0;31m---------------------------------------------------------------------------\u001b[0m",
            "\u001b[0;31mFileNotFoundError\u001b[0m                         Traceback (most recent call last)",
            "\u001b[0;32m<ipython-input-35-bc3c0c01c218>\u001b[0m in \u001b[0;36m<cell line: 8>\u001b[0;34m()\u001b[0m\n\u001b[1;32m      7\u001b[0m \u001b[0;34m\u001b[0m\u001b[0m\n\u001b[1;32m      8\u001b[0m \u001b[0;32mfor\u001b[0m \u001b[0mi\u001b[0m \u001b[0;32min\u001b[0m \u001b[0mrange\u001b[0m\u001b[0;34m(\u001b[0m\u001b[0;36m1\u001b[0m\u001b[0;34m,\u001b[0m\u001b[0;36m2\u001b[0m\u001b[0;34m)\u001b[0m\u001b[0;34m:\u001b[0m\u001b[0;34m\u001b[0m\u001b[0;34m\u001b[0m\u001b[0m\n\u001b[0;32m----> 9\u001b[0;31m     \u001b[0mos\u001b[0m\u001b[0;34m.\u001b[0m\u001b[0mrename\u001b[0m\u001b[0;34m(\u001b[0m\u001b[0;34mf\"{i}.mp4\"\u001b[0m\u001b[0;34m,\u001b[0m \u001b[0;34mf\"Mr. Bad EP-{i}.mp4\"\u001b[0m\u001b[0;34m)\u001b[0m\u001b[0;34m\u001b[0m\u001b[0;34m\u001b[0m\u001b[0m\n\u001b[0m",
            "\u001b[0;31mFileNotFoundError\u001b[0m: [Errno 2] No such file or directory: '1.mp4' -> 'Mr. Bad EP-1.mp4'"
          ]
        }
      ]
    },
    {
      "cell_type": "code",
      "source": [
        "ls"
      ],
      "metadata": {
        "colab": {
          "base_uri": "https://localhost:8080/"
        },
        "id": "N-g0jbXshSSS",
        "outputId": "1ca11cd5-8f1c-45fc-e752-92013c7d7935"
      },
      "execution_count": 34,
      "outputs": [
        {
          "output_type": "stream",
          "name": "stdout",
          "text": [
            " 1.maybe.mkv         'Mr. Bad EP-12.mp4'  'Mr. Bad EP-20.mp4'  'Mr. Bad EP-5.mp4'\n",
            "\u001b[0m\u001b[01;34m'Colab Notebooks'\u001b[0m/   'Mr. Bad EP-13.mp4'  'Mr. Bad EP-21.mp4'  'Mr. Bad EP-6.mp4'\n",
            " \u001b[01;34mDriveSeed\u001b[0m/          'Mr. Bad EP-14.mp4'  'Mr. Bad EP-22.mp4'  'Mr. Bad EP-7.mp4'\n",
            " folder.zip.zip      'Mr. Bad EP-15.mp4'  'Mr. Bad EP-23.mp4'  'Mr. Bad EP-8.mp4'\n",
            " \u001b[01;34mmcubd\u001b[0m/              'Mr. Bad EP-16.mp4'  'Mr. Bad EP-24.mp4'  'Mr. Bad EP-9.mp4'\n",
            " \u001b[01;34mmp3vid\u001b[0m/             'Mr. Bad EP-17.mp4'  'Mr. Bad EP-2.mp4'    new_file_name.mkv\n",
            "'Mr. Bad EP-10.mp4'  'Mr. Bad EP-18.mp4'  'Mr. Bad EP-3.mp4'    \u001b[01;34mprocessed\u001b[0m/\n",
            "'Mr. Bad EP-11.mp4'  'Mr. Bad EP-19.mp4'  'Mr. Bad EP-4.mp4'\n"
          ]
        }
      ]
    }
  ],
  "metadata": {
    "colab": {
      "provenance": []
    },
    "kernelspec": {
      "display_name": "Python 3",
      "name": "python3"
    },
    "language_info": {
      "name": "python"
    }
  },
  "nbformat": 4,
  "nbformat_minor": 0
}