{
  "cells": [
    {
      "cell_type": "code",
      "execution_count": 1,
      "metadata": {
        "id": "93a3edJRcpTF",
        "cellView": "form",
        "outputId": "c5bed7fd-e851-4a03-8957-d427047ba1a7",
        "colab": {
          "base_uri": "https://localhost:8080/"
        }
      },
      "outputs": [
        {
          "output_type": "stream",
          "name": "stdout",
          "text": [
            "Mounted at /content/drive\n"
          ]
        }
      ],
      "source": [
        "# @title Connect to gdrive\n",
        "\n",
        "from google.colab import drive\n",
        "drive.mount('/content/drive')"
      ]
    },
    {
      "cell_type": "code",
      "source": [
        "cd drive/MyDrive"
      ],
      "metadata": {
        "id": "0supzbcn3tTj"
      },
      "execution_count": null,
      "outputs": []
    },
    {
      "cell_type": "code",
      "source": [
        "import os\n",
        "def download_file(url):\n",
        "    !wget {url} -O {os.path.basename(url)}\n",
        "url = \"https://example.com/files/example.zip\"\n",
        "download_file(url)"
      ],
      "metadata": {
        "id": "8HDHgQpbTmvz"
      },
      "execution_count": null,
      "outputs": []
    },
    {
      "cell_type": "code",
      "source": [
        "# @title Extract audio track\n",
        "#extract audio\n",
        "import subprocess\n",
        "\n",
        "def extract_audio(input_video, output_audio):\n",
        "    command = [\n",
        "        'ffmpeg',\n",
        "        '-i', input_video,\n",
        "        '-vn',  # Disable video recording\n",
        "        '-acodec', 'copy',  # Copy audio codec without re-encoding\n",
        "        #'-map', '0:a:1',  # Select the second audio stream (0-indexed)\n",
        "        output_audio\n",
        "    ]\n",
        "\n",
        "    subprocess.run(command)\n",
        "\n",
        "if __name__ == \"__main__\":\n",
        "    input_video_file = \"ben.mkv\"\n",
        "    output_audio_file = \"ben2.mp4\"\n",
        "    for i in range(11,20):\n",
        "        extract_audio(f\"{i}.mkv\", f\"./nullvideo/{i}-vid.mp4\")"
      ],
      "metadata": {
        "id": "KPyBub2uv1aN",
        "cellView": "form"
      },
      "execution_count": null,
      "outputs": []
    },
    {
      "cell_type": "code",
      "source": [
        "ls"
      ],
      "metadata": {
        "id": "mV1QuPGi2Fo_"
      },
      "execution_count": null,
      "outputs": []
    },
    {
      "cell_type": "code",
      "source": [
        "# @title Audio track count find\n",
        "#audio track count find\n",
        "import subprocess\n",
        "import json\n",
        "\n",
        "def get_all_audio_track_info(input_video):\n",
        "    command = [\n",
        "        'ffprobe',\n",
        "        '-v', 'error',\n",
        "        '-select_streams', 'a',\n",
        "        '-show_entries', 'stream=index:stream_tags=language',\n",
        "        '-of', 'json',\n",
        "        input_video\n",
        "    ]\n",
        "\n",
        "    try:\n",
        "        result = subprocess.run(command, capture_output=True, text=True)\n",
        "        output = result.stdout\n",
        "\n",
        "        data = json.loads(output)\n",
        "        audio_tracks = [\n",
        "            {\"index\": entry[\"index\"], \"language\": entry[\"tags\"].get(\"language\", \"unknown\")}\n",
        "            for entry in data.get(\"streams\", [])\n",
        "        ]\n",
        "\n",
        "        return audio_tracks\n",
        "\n",
        "    except subprocess.CalledProcessError as e:\n",
        "        print(f\"Error: {e}\")\n",
        "        return None\n",
        "\n",
        "if __name__ == \"__main__\":\n",
        "    input_video_file = \"ben.mkv\"\n",
        "\n",
        "    audio_track_info = get_all_audio_track_info(input_video_file)\n",
        "\n",
        "    if audio_track_info is not None:\n",
        "        print(\"All Audio Tracks Information:\")\n",
        "        for track in audio_track_info:\n",
        "            print(f\"Index: {track['index']}, Language: {track['language']}\")\n",
        "    else:\n",
        "        print(\"Failed to retrieve audio track information.\")"
      ],
      "metadata": {
        "cellView": "form",
        "id": "Dpm1ebGru5Uv"
      },
      "execution_count": null,
      "outputs": []
    },
    {
      "cell_type": "code",
      "source": [
        "# @title Unzip a file\n",
        "import patoolib\n",
        "\n",
        "def unzip_file(file_path, extract_path):\n",
        "    try:\n",
        "        patoolib.extract_archive(file_path, outdir=extract_path)\n",
        "        print(f\"Successfully extracted {file_path} to {extract_path}\")\n",
        "    except Exception as e:\n",
        "        print(f\"Error extracting {file_path}: {e}\")\n",
        "\n",
        "# Example usage\n",
        "compressed_file_path = '/content/drive/MyDrive/DriveSeed/okay.zip'\n",
        "extract_path = '/content/drive/MyDrive/extrected'\n",
        "\n",
        "unzip_file(compressed_file_path, extract_path)\n",
        "\n",
        "\n",
        "\n"
      ],
      "metadata": {
        "id": "VQa7bMxanfaQ",
        "outputId": "c5e3d988-be5e-4c15-bc2a-758763c1a97b",
        "colab": {
          "base_uri": "https://localhost:8080/"
        }
      },
      "execution_count": 9,
      "outputs": [
        {
          "output_type": "stream",
          "name": "stderr",
          "text": [
            "INFO patool: Extracting /content/drive/MyDrive/DriveSeed/okay.zip ...\n",
            "INFO:patool:Extracting /content/drive/MyDrive/DriveSeed/okay.zip ...\n",
            "INFO patool: ... creating output directory `extrected'.\n",
            "INFO:patool:... creating output directory `extrected'.\n",
            "INFO patool: running /usr/bin/7z x -oextrected -- /content/drive/MyDrive/DriveSeed/okay.zip\n",
            "INFO:patool:running /usr/bin/7z x -oextrected -- /content/drive/MyDrive/DriveSeed/okay.zip\n",
            "INFO patool:     with input=''\n",
            "INFO:patool:    with input=''\n",
            "INFO patool: ... /content/drive/MyDrive/DriveSeed/okay.zip extracted to `extrected'.\n",
            "INFO:patool:... /content/drive/MyDrive/DriveSeed/okay.zip extracted to `extrected'.\n"
          ]
        },
        {
          "output_type": "stream",
          "name": "stdout",
          "text": [
            "Successfully extracted /content/drive/MyDrive/DriveSeed/okay.zip to extrected\n"
          ]
        }
      ]
    },
    {
      "cell_type": "code",
      "source": [
        "pwd\n"
      ],
      "metadata": {
        "id": "QjZzbWxmNUMP",
        "outputId": "66e586c9-242f-4e9c-b855-cc5d81c19a2a",
        "colab": {
          "base_uri": "https://localhost:8080/",
          "height": 35
        }
      },
      "execution_count": 4,
      "outputs": [
        {
          "output_type": "execute_result",
          "data": {
            "text/plain": [
              "'/content/drive/MyDrive'"
            ],
            "application/vnd.google.colaboratory.intrinsic+json": {
              "type": "string"
            }
          },
          "metadata": {},
          "execution_count": 4
        }
      ]
    },
    {
      "cell_type": "code",
      "source": [
        "# @title h264 video(aac) => h264 video(mp3)\n",
        "import subprocess\n",
        "\n",
        "def copy_video_change_audio_to_mp3(input_video, output_video):\n",
        "    command = [\n",
        "        'ffmpeg',\n",
        "        '-i', input_video,\n",
        "        '-c:v', 'copy',    # Copy the video codec without re-encoding\n",
        "        '-c:a', 'mp3',     # Set the audio codec to MP3\n",
        "        '-strict', 'experimental',  # Needed for using AAC codec\n",
        "        output_video\n",
        "    ]\n",
        "\n",
        "    try:\n",
        "        subprocess.run(command, check=True)\n",
        "        print(f\"Video copied, and audio codec changed to MP3. Saved to {output_video}.\")\n",
        "    except subprocess.CalledProcessError as e:\n",
        "        print(f\"Error: {e}\")\n",
        "\n",
        "if __name__ == \"__main__\":\n",
        "    input_video_file = \"path/to/your/input/video.mp4\"\n",
        "    output_video_file = \"path/to/your/output/copied_video.mp4\"\n",
        "    for i in range(6,11):\n",
        "        copy_video_change_audio_to_mp3(f\"{i}.mkv\", f\"./processed/{i}.mp4\")\n"
      ],
      "metadata": {
        "id": "mI5MuIaW7H-w",
        "cellView": "form"
      },
      "execution_count": null,
      "outputs": []
    }
  ],
  "metadata": {
    "colab": {
      "provenance": []
    },
    "kernelspec": {
      "display_name": "Python 3",
      "name": "python3"
    },
    "language_info": {
      "name": "python"
    }
  },
  "nbformat": 4,
  "nbformat_minor": 0
}